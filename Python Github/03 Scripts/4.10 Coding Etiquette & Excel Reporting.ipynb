{
 "cells": [
  {
   "cell_type": "markdown",
   "id": "a861cb9f",
   "metadata": {},
   "source": [
    "# 4.10 Coding Etiquette & Excel Reporting"
   ]
  },
  {
   "cell_type": "code",
   "execution_count": 1,
   "id": "c8a17596",
   "metadata": {},
   "outputs": [],
   "source": [
    "# Importing libraries\n",
    "\n",
    "import pandas as pd\n",
    "import numpy as np\n",
    "import os\n",
    "import matplotlib.pyplot as plt\n",
    "import seaborn as sns\n",
    "import scipy "
   ]
  },
  {
   "cell_type": "code",
   "execution_count": 2,
   "id": "159b6ae6",
   "metadata": {},
   "outputs": [],
   "source": [
    "path = r'C:\\Users\\Brichaelle\\01-08-2023 Instacart Basket Analysis' "
   ]
  },
  {
   "cell_type": "code",
   "execution_count": 3,
   "id": "250d523c",
   "metadata": {},
   "outputs": [],
   "source": [
    "ords_merged = pd.read_pickle(os.path.join(path, '02 Data','Prepared Data', 'orders_products_customers_combined.pkl')) "
   ]
  },
  {
   "cell_type": "markdown",
   "id": "7fe06991",
   "metadata": {},
   "source": [
    "## Table of Contents\n",
    "\n",
    "3 - Regional Flag\n",
    "\n",
    "3.1 - Regional Line Chart\n",
    "\n",
    "4 - Low-activity Exclusion Flag\n",
    "\n",
    "5 - Customer Profile\n",
    "\n",
    "6 - Customer Profile Bar Chart\n",
    "\n",
    "7 - Customer Profile Aggregation\n",
    "\n",
    "8 - Customer Profile Comparisons\n",
    "\n",
    "8.1 - Regional Customer Profile Line Chart\n",
    "\n",
    "8.2 - Departmental Customer Profile Line Chart"
   ]
  },
  {
   "cell_type": "markdown",
   "id": "7e4ee844",
   "metadata": {},
   "source": [
    "## 3. Regional Flag"
   ]
  },
  {
   "cell_type": "code",
   "execution_count": 4,
   "id": "67b3b097",
   "metadata": {
    "scrolled": true
   },
   "outputs": [
    {
     "data": {
      "text/html": [
       "<div>\n",
       "<style scoped>\n",
       "    .dataframe tbody tr th:only-of-type {\n",
       "        vertical-align: middle;\n",
       "    }\n",
       "\n",
       "    .dataframe tbody tr th {\n",
       "        vertical-align: top;\n",
       "    }\n",
       "\n",
       "    .dataframe thead th {\n",
       "        text-align: right;\n",
       "    }\n",
       "</style>\n",
       "<table border=\"1\" class=\"dataframe\">\n",
       "  <thead>\n",
       "    <tr style=\"text-align: right;\">\n",
       "      <th></th>\n",
       "      <th>product_id</th>\n",
       "      <th>product_name</th>\n",
       "      <th>aisle_id</th>\n",
       "      <th>department_id</th>\n",
       "      <th>prices</th>\n",
       "      <th>order_id</th>\n",
       "      <th>user_id</th>\n",
       "      <th>eval_set</th>\n",
       "      <th>order_number</th>\n",
       "      <th>order_dow</th>\n",
       "      <th>...</th>\n",
       "      <th>order_frequency_flag</th>\n",
       "      <th>First Name</th>\n",
       "      <th>Surname</th>\n",
       "      <th>Gender</th>\n",
       "      <th>State</th>\n",
       "      <th>Age</th>\n",
       "      <th>date_joined</th>\n",
       "      <th>n_dependants</th>\n",
       "      <th>fam_status</th>\n",
       "      <th>income</th>\n",
       "    </tr>\n",
       "  </thead>\n",
       "  <tbody>\n",
       "    <tr>\n",
       "      <th>0</th>\n",
       "      <td>1</td>\n",
       "      <td>Chocolate Sandwich Cookies</td>\n",
       "      <td>61</td>\n",
       "      <td>19</td>\n",
       "      <td>5.8</td>\n",
       "      <td>3139998</td>\n",
       "      <td>138</td>\n",
       "      <td>prior</td>\n",
       "      <td>28</td>\n",
       "      <td>6</td>\n",
       "      <td>...</td>\n",
       "      <td>Frequent customer</td>\n",
       "      <td>Charles</td>\n",
       "      <td>Cox</td>\n",
       "      <td>Male</td>\n",
       "      <td>Minnesota</td>\n",
       "      <td>81</td>\n",
       "      <td>8/1/2019</td>\n",
       "      <td>1</td>\n",
       "      <td>married</td>\n",
       "      <td>49620</td>\n",
       "    </tr>\n",
       "    <tr>\n",
       "      <th>1</th>\n",
       "      <td>1</td>\n",
       "      <td>Chocolate Sandwich Cookies</td>\n",
       "      <td>61</td>\n",
       "      <td>19</td>\n",
       "      <td>5.8</td>\n",
       "      <td>1977647</td>\n",
       "      <td>138</td>\n",
       "      <td>prior</td>\n",
       "      <td>30</td>\n",
       "      <td>6</td>\n",
       "      <td>...</td>\n",
       "      <td>Frequent customer</td>\n",
       "      <td>Charles</td>\n",
       "      <td>Cox</td>\n",
       "      <td>Male</td>\n",
       "      <td>Minnesota</td>\n",
       "      <td>81</td>\n",
       "      <td>8/1/2019</td>\n",
       "      <td>1</td>\n",
       "      <td>married</td>\n",
       "      <td>49620</td>\n",
       "    </tr>\n",
       "    <tr>\n",
       "      <th>2</th>\n",
       "      <td>907</td>\n",
       "      <td>Premium Sliced Bacon</td>\n",
       "      <td>106</td>\n",
       "      <td>12</td>\n",
       "      <td>20.0</td>\n",
       "      <td>2254091</td>\n",
       "      <td>138</td>\n",
       "      <td>prior</td>\n",
       "      <td>10</td>\n",
       "      <td>5</td>\n",
       "      <td>...</td>\n",
       "      <td>Frequent customer</td>\n",
       "      <td>Charles</td>\n",
       "      <td>Cox</td>\n",
       "      <td>Male</td>\n",
       "      <td>Minnesota</td>\n",
       "      <td>81</td>\n",
       "      <td>8/1/2019</td>\n",
       "      <td>1</td>\n",
       "      <td>married</td>\n",
       "      <td>49620</td>\n",
       "    </tr>\n",
       "    <tr>\n",
       "      <th>3</th>\n",
       "      <td>1000</td>\n",
       "      <td>Apricots</td>\n",
       "      <td>18</td>\n",
       "      <td>10</td>\n",
       "      <td>12.9</td>\n",
       "      <td>505689</td>\n",
       "      <td>138</td>\n",
       "      <td>prior</td>\n",
       "      <td>9</td>\n",
       "      <td>6</td>\n",
       "      <td>...</td>\n",
       "      <td>Frequent customer</td>\n",
       "      <td>Charles</td>\n",
       "      <td>Cox</td>\n",
       "      <td>Male</td>\n",
       "      <td>Minnesota</td>\n",
       "      <td>81</td>\n",
       "      <td>8/1/2019</td>\n",
       "      <td>1</td>\n",
       "      <td>married</td>\n",
       "      <td>49620</td>\n",
       "    </tr>\n",
       "    <tr>\n",
       "      <th>4</th>\n",
       "      <td>3265</td>\n",
       "      <td>Mini Seedless Watermelon Pack</td>\n",
       "      <td>32</td>\n",
       "      <td>4</td>\n",
       "      <td>1.7</td>\n",
       "      <td>960220</td>\n",
       "      <td>138</td>\n",
       "      <td>prior</td>\n",
       "      <td>17</td>\n",
       "      <td>5</td>\n",
       "      <td>...</td>\n",
       "      <td>Frequent customer</td>\n",
       "      <td>Charles</td>\n",
       "      <td>Cox</td>\n",
       "      <td>Male</td>\n",
       "      <td>Minnesota</td>\n",
       "      <td>81</td>\n",
       "      <td>8/1/2019</td>\n",
       "      <td>1</td>\n",
       "      <td>married</td>\n",
       "      <td>49620</td>\n",
       "    </tr>\n",
       "  </tbody>\n",
       "</table>\n",
       "<p>5 rows × 34 columns</p>\n",
       "</div>"
      ],
      "text/plain": [
       "   product_id                   product_name  aisle_id  department_id  prices  \\\n",
       "0           1     Chocolate Sandwich Cookies        61             19     5.8   \n",
       "1           1     Chocolate Sandwich Cookies        61             19     5.8   \n",
       "2         907           Premium Sliced Bacon       106             12    20.0   \n",
       "3        1000                       Apricots        18             10    12.9   \n",
       "4        3265  Mini Seedless Watermelon Pack        32              4     1.7   \n",
       "\n",
       "   order_id  user_id eval_set  order_number  order_dow  ...  \\\n",
       "0   3139998      138    prior            28          6  ...   \n",
       "1   1977647      138    prior            30          6  ...   \n",
       "2   2254091      138    prior            10          5  ...   \n",
       "3    505689      138    prior             9          6  ...   \n",
       "4    960220      138    prior            17          5  ...   \n",
       "\n",
       "   order_frequency_flag  First Name  Surname  Gender      State Age  \\\n",
       "0     Frequent customer     Charles      Cox    Male  Minnesota  81   \n",
       "1     Frequent customer     Charles      Cox    Male  Minnesota  81   \n",
       "2     Frequent customer     Charles      Cox    Male  Minnesota  81   \n",
       "3     Frequent customer     Charles      Cox    Male  Minnesota  81   \n",
       "4     Frequent customer     Charles      Cox    Male  Minnesota  81   \n",
       "\n",
       "  date_joined n_dependants fam_status  income  \n",
       "0    8/1/2019            1    married   49620  \n",
       "1    8/1/2019            1    married   49620  \n",
       "2    8/1/2019            1    married   49620  \n",
       "3    8/1/2019            1    married   49620  \n",
       "4    8/1/2019            1    married   49620  \n",
       "\n",
       "[5 rows x 34 columns]"
      ]
     },
     "execution_count": 4,
     "metadata": {},
     "output_type": "execute_result"
    }
   ],
   "source": [
    "ords_merged.head() "
   ]
  },
  {
   "cell_type": "code",
   "execution_count": 5,
   "id": "27fbf991",
   "metadata": {},
   "outputs": [],
   "source": [
    "# Creating Flag\n",
    "\n",
    "ords_merged.loc[ords_merged['State'].isin(['Maine', 'New Hampshire', 'Vermont', 'Massachusetts', 'Rhode Island', 'Connecticut', 'New York', 'Pennsylvania', 'New Jersey']), 'Region'] = 'Northeast'"
   ]
  },
  {
   "cell_type": "code",
   "execution_count": 6,
   "id": "57d60af7",
   "metadata": {},
   "outputs": [],
   "source": [
    "ords_merged.loc[ords_merged['State'].isin(['Wisconsin', 'Michigan', 'Illinois', 'Indiana', 'Ohio', 'North Dakota', 'South Dakota', 'Nebraska', 'Kansas', 'Minnesota', 'Iowa', 'Missouri']), 'Region'] = 'Midwest'"
   ]
  },
  {
   "cell_type": "code",
   "execution_count": 7,
   "id": "6211663d",
   "metadata": {},
   "outputs": [],
   "source": [
    "ords_merged.loc[ords_merged['State'].isin(['Delaware','Maryland', 'District of Columbia', 'Virginia', 'West Virginia', 'North Carolina', 'South Carolina', 'Georgia', 'Kentucky', 'Tennessee', 'Mississippi', 'Alabama', 'Oklahoma', 'Texas', 'Arkansas', 'Louisiana', 'Florida']), 'Region'] = 'South'"
   ]
  },
  {
   "cell_type": "code",
   "execution_count": 8,
   "id": "dfb3f86b",
   "metadata": {},
   "outputs": [],
   "source": [
    "ords_merged.loc[ords_merged['State'].isin(['Idaho', 'Montana', 'Wyoming', 'Nevada', 'Utah', 'Colorado', 'Arizona', 'New Mexico', 'Alaska', 'Washington', 'Oregon', 'California', 'Hawaii']), 'Region'] = 'West'"
   ]
  },
  {
   "cell_type": "code",
   "execution_count": 9,
   "id": "51d82337",
   "metadata": {},
   "outputs": [
    {
     "data": {
      "text/plain": [
       "South        7764149\n",
       "West         5975067\n",
       "Midwest      5466951\n",
       "Northeast    4128870\n",
       "Name: Region, dtype: int64"
      ]
     },
     "execution_count": 9,
     "metadata": {},
     "output_type": "execute_result"
    }
   ],
   "source": [
    "# Checking variable frequencies\n",
    "\n",
    "ords_merged['Region'].value_counts(dropna = False) "
   ]
  },
  {
   "cell_type": "code",
   "execution_count": 10,
   "id": "38e7b04e",
   "metadata": {},
   "outputs": [],
   "source": [
    "# Creating line chart for comparison\n",
    "np.random.seed(4)\n",
    "dev = np.random.rand(len(ords_merged)) <= 0.7 "
   ]
  },
  {
   "cell_type": "code",
   "execution_count": 11,
   "id": "e1565a20",
   "metadata": {},
   "outputs": [],
   "source": [
    "# Store 70% of sample\n",
    "\n",
    "big = ords_merged[dev] "
   ]
  },
  {
   "cell_type": "code",
   "execution_count": 12,
   "id": "33d8f3c0",
   "metadata": {},
   "outputs": [],
   "source": [
    "# Store 30% of sample\n",
    "\n",
    "small = ords_merged[~dev] "
   ]
  },
  {
   "cell_type": "code",
   "execution_count": 13,
   "id": "388d0a6f",
   "metadata": {},
   "outputs": [],
   "source": [
    "# Using only necessary columns \n",
    "\n",
    "a_2 = small[['Region','spending_flag']] "
   ]
  },
  {
   "cell_type": "markdown",
   "id": "b6ad84c9",
   "metadata": {},
   "source": [
    "### 3.1 Regional Line Chart"
   ]
  },
  {
   "cell_type": "code",
   "execution_count": 14,
   "id": "a09fb055",
   "metadata": {},
   "outputs": [
    {
     "data": {
      "image/png": "[encoded data removed]",
      "text/plain": [
       "<Figure size 640x480 with 1 Axes>"
      ]
     },
     "metadata": {},
     "output_type": "display_data"
    }
   ],
   "source": [
    "# Creating line chart\n",
    "\n",
    "line = sns.lineplot(data = a_2, x = 'Region',y = 'spending_flag') "
   ]
  },
  {
   "cell_type": "code",
   "execution_count": 15,
   "id": "10cc3e2b",
   "metadata": {},
   "outputs": [],
   "source": [
    "# Exporting chart\n",
    "\n",
    "line.figure.savefig(os.path.join(path, '04 Analysis','Visualizations', 'regional_spending.png'))   "
   ]
  },
  {
   "cell_type": "markdown",
   "id": "1d18e828",
   "metadata": {},
   "source": [
    "## 4. Low-activity Exclusion Flag"
   ]
  },
  {
   "cell_type": "code",
   "execution_count": 16,
   "id": "0f1231ac",
   "metadata": {},
   "outputs": [],
   "source": [
    "# Creating Flag\n",
    "ords_merged.loc[ords_merged['max_order'] < 5, 'low_activity_flag'] = 'Low-activity Customer'"
   ]
  },
  {
   "cell_type": "code",
   "execution_count": 17,
   "id": "b3449f9d",
   "metadata": {},
   "outputs": [
    {
     "data": {
      "text/plain": [
       "NaN                      22455232\n",
       "Low-activity Customer      879805\n",
       "Name: low_activity_flag, dtype: int64"
      ]
     },
     "execution_count": 17,
     "metadata": {},
     "output_type": "execute_result"
    }
   ],
   "source": [
    "# Checking variable frequencies\n",
    "\n",
    "ords_merged['low_activity_flag'].value_counts(dropna = False) "
   ]
  },
  {
   "cell_type": "code",
   "execution_count": 18,
   "id": "ff00d099",
   "metadata": {},
   "outputs": [
    {
     "data": {
      "text/html": [
       "<div>\n",
       "<style scoped>\n",
       "    .dataframe tbody tr th:only-of-type {\n",
       "        vertical-align: middle;\n",
       "    }\n",
       "\n",
       "    .dataframe tbody tr th {\n",
       "        vertical-align: top;\n",
       "    }\n",
       "\n",
       "    .dataframe thead th {\n",
       "        text-align: right;\n",
       "    }\n",
       "</style>\n",
       "<table border=\"1\" class=\"dataframe\">\n",
       "  <thead>\n",
       "    <tr style=\"text-align: right;\">\n",
       "      <th></th>\n",
       "      <th>product_id</th>\n",
       "      <th>product_name</th>\n",
       "      <th>aisle_id</th>\n",
       "      <th>department_id</th>\n",
       "      <th>prices</th>\n",
       "      <th>order_id</th>\n",
       "      <th>user_id</th>\n",
       "      <th>eval_set</th>\n",
       "      <th>order_number</th>\n",
       "      <th>order_dow</th>\n",
       "      <th>...</th>\n",
       "      <th>Surname</th>\n",
       "      <th>Gender</th>\n",
       "      <th>State</th>\n",
       "      <th>Age</th>\n",
       "      <th>date_joined</th>\n",
       "      <th>n_dependants</th>\n",
       "      <th>fam_status</th>\n",
       "      <th>income</th>\n",
       "      <th>Region</th>\n",
       "      <th>low_activity_flag</th>\n",
       "    </tr>\n",
       "  </thead>\n",
       "  <tbody>\n",
       "    <tr>\n",
       "      <th>0</th>\n",
       "      <td>1</td>\n",
       "      <td>Chocolate Sandwich Cookies</td>\n",
       "      <td>61</td>\n",
       "      <td>19</td>\n",
       "      <td>5.8</td>\n",
       "      <td>3139998</td>\n",
       "      <td>138</td>\n",
       "      <td>prior</td>\n",
       "      <td>28</td>\n",
       "      <td>6</td>\n",
       "      <td>...</td>\n",
       "      <td>Cox</td>\n",
       "      <td>Male</td>\n",
       "      <td>Minnesota</td>\n",
       "      <td>81</td>\n",
       "      <td>8/1/2019</td>\n",
       "      <td>1</td>\n",
       "      <td>married</td>\n",
       "      <td>49620</td>\n",
       "      <td>Midwest</td>\n",
       "      <td>NaN</td>\n",
       "    </tr>\n",
       "    <tr>\n",
       "      <th>1</th>\n",
       "      <td>1</td>\n",
       "      <td>Chocolate Sandwich Cookies</td>\n",
       "      <td>61</td>\n",
       "      <td>19</td>\n",
       "      <td>5.8</td>\n",
       "      <td>1977647</td>\n",
       "      <td>138</td>\n",
       "      <td>prior</td>\n",
       "      <td>30</td>\n",
       "      <td>6</td>\n",
       "      <td>...</td>\n",
       "      <td>Cox</td>\n",
       "      <td>Male</td>\n",
       "      <td>Minnesota</td>\n",
       "      <td>81</td>\n",
       "      <td>8/1/2019</td>\n",
       "      <td>1</td>\n",
       "      <td>married</td>\n",
       "      <td>49620</td>\n",
       "      <td>Midwest</td>\n",
       "      <td>NaN</td>\n",
       "    </tr>\n",
       "    <tr>\n",
       "      <th>2</th>\n",
       "      <td>907</td>\n",
       "      <td>Premium Sliced Bacon</td>\n",
       "      <td>106</td>\n",
       "      <td>12</td>\n",
       "      <td>20.0</td>\n",
       "      <td>2254091</td>\n",
       "      <td>138</td>\n",
       "      <td>prior</td>\n",
       "      <td>10</td>\n",
       "      <td>5</td>\n",
       "      <td>...</td>\n",
       "      <td>Cox</td>\n",
       "      <td>Male</td>\n",
       "      <td>Minnesota</td>\n",
       "      <td>81</td>\n",
       "      <td>8/1/2019</td>\n",
       "      <td>1</td>\n",
       "      <td>married</td>\n",
       "      <td>49620</td>\n",
       "      <td>Midwest</td>\n",
       "      <td>NaN</td>\n",
       "    </tr>\n",
       "    <tr>\n",
       "      <th>3</th>\n",
       "      <td>1000</td>\n",
       "      <td>Apricots</td>\n",
       "      <td>18</td>\n",
       "      <td>10</td>\n",
       "      <td>12.9</td>\n",
       "      <td>505689</td>\n",
       "      <td>138</td>\n",
       "      <td>prior</td>\n",
       "      <td>9</td>\n",
       "      <td>6</td>\n",
       "      <td>...</td>\n",
       "      <td>Cox</td>\n",
       "      <td>Male</td>\n",
       "      <td>Minnesota</td>\n",
       "      <td>81</td>\n",
       "      <td>8/1/2019</td>\n",
       "      <td>1</td>\n",
       "      <td>married</td>\n",
       "      <td>49620</td>\n",
       "      <td>Midwest</td>\n",
       "      <td>NaN</td>\n",
       "    </tr>\n",
       "    <tr>\n",
       "      <th>4</th>\n",
       "      <td>3265</td>\n",
       "      <td>Mini Seedless Watermelon Pack</td>\n",
       "      <td>32</td>\n",
       "      <td>4</td>\n",
       "      <td>1.7</td>\n",
       "      <td>960220</td>\n",
       "      <td>138</td>\n",
       "      <td>prior</td>\n",
       "      <td>17</td>\n",
       "      <td>5</td>\n",
       "      <td>...</td>\n",
       "      <td>Cox</td>\n",
       "      <td>Male</td>\n",
       "      <td>Minnesota</td>\n",
       "      <td>81</td>\n",
       "      <td>8/1/2019</td>\n",
       "      <td>1</td>\n",
       "      <td>married</td>\n",
       "      <td>49620</td>\n",
       "      <td>Midwest</td>\n",
       "      <td>NaN</td>\n",
       "    </tr>\n",
       "  </tbody>\n",
       "</table>\n",
       "<p>5 rows × 36 columns</p>\n",
       "</div>"
      ],
      "text/plain": [
       "   product_id                   product_name  aisle_id  department_id  prices  \\\n",
       "0           1     Chocolate Sandwich Cookies        61             19     5.8   \n",
       "1           1     Chocolate Sandwich Cookies        61             19     5.8   \n",
       "2         907           Premium Sliced Bacon       106             12    20.0   \n",
       "3        1000                       Apricots        18             10    12.9   \n",
       "4        3265  Mini Seedless Watermelon Pack        32              4     1.7   \n",
       "\n",
       "   order_id  user_id eval_set  order_number  order_dow  ...  Surname  Gender  \\\n",
       "0   3139998      138    prior            28          6  ...      Cox    Male   \n",
       "1   1977647      138    prior            30          6  ...      Cox    Male   \n",
       "2   2254091      138    prior            10          5  ...      Cox    Male   \n",
       "3    505689      138    prior             9          6  ...      Cox    Male   \n",
       "4    960220      138    prior            17          5  ...      Cox    Male   \n",
       "\n",
       "       State  Age date_joined n_dependants fam_status income   Region  \\\n",
       "0  Minnesota   81    8/1/2019            1    married  49620  Midwest   \n",
       "1  Minnesota   81    8/1/2019            1    married  49620  Midwest   \n",
       "2  Minnesota   81    8/1/2019            1    married  49620  Midwest   \n",
       "3  Minnesota   81    8/1/2019            1    married  49620  Midwest   \n",
       "4  Minnesota   81    8/1/2019            1    married  49620  Midwest   \n",
       "\n",
       "   low_activity_flag  \n",
       "0                NaN  \n",
       "1                NaN  \n",
       "2                NaN  \n",
       "3                NaN  \n",
       "4                NaN  \n",
       "\n",
       "[5 rows x 36 columns]"
      ]
     },
     "execution_count": 18,
     "metadata": {},
     "output_type": "execute_result"
    }
   ],
   "source": [
    "ords_merged.head() "
   ]
  },
  {
   "cell_type": "code",
   "execution_count": 19,
   "id": "f21c1756",
   "metadata": {},
   "outputs": [],
   "source": [
    "# Exporting Sample\n",
    "\n",
    "ords_merged.to_pickle(os.path.join(path, '02 Data','Prepared Data', 'Region_low_activity.pkl')) "
   ]
  },
  {
   "cell_type": "markdown",
   "id": "6792dc15",
   "metadata": {},
   "source": [
    "## 5. Customer Profile"
   ]
  },
  {
   "cell_type": "code",
   "execution_count": 20,
   "id": "6d76b04f",
   "metadata": {},
   "outputs": [],
   "source": [
    "# Creating Flag\n",
    "\n",
    "ords_merged.loc[(ords_merged['Age'] < 30) & (ords_merged['n_dependants'] > 0), 'customer_profile'] = 'young parent' "
   ]
  },
  {
   "cell_type": "code",
   "execution_count": 21,
   "id": "bc79b506",
   "metadata": {},
   "outputs": [],
   "source": [
    "ords_merged.loc[(ords_merged['fam_status'] == 'single') & (ords_merged['n_dependants'] == 0), 'customer_profile'] = 'single adult' "
   ]
  },
  {
   "cell_type": "code",
   "execution_count": 22,
   "id": "fd8a3571",
   "metadata": {},
   "outputs": [
    {
     "data": {
      "text/plain": [
       "NaN             16224624\n",
       "single adult     3815399\n",
       "young parent     3295014\n",
       "Name: customer_profile, dtype: int64"
      ]
     },
     "execution_count": 22,
     "metadata": {},
     "output_type": "execute_result"
    }
   ],
   "source": [
    "#checking flag frequency\n",
    "\n",
    "ords_merged['customer_profile'].value_counts(dropna = False) "
   ]
  },
  {
   "cell_type": "markdown",
   "id": "2c047d2b",
   "metadata": {},
   "source": [
    "## 6. Customer Profile Bar Chart"
   ]
  },
  {
   "cell_type": "code",
   "execution_count": 23,
   "id": "fedea00c",
   "metadata": {},
   "outputs": [
    {
     "data": {
      "image/png": "[encoded data removed]",
      "text/plain": [
       "<Figure size 640x480 with 1 Axes>"
      ]
     },
     "metadata": {},
     "output_type": "display_data"
    }
   ],
   "source": [
    "bar = ords_merged['customer_profile'].value_counts(dropna = True).plot.bar()  "
   ]
  },
  {
   "cell_type": "code",
   "execution_count": 24,
   "id": "addb8ba7",
   "metadata": {},
   "outputs": [],
   "source": [
    "# Exporting chart\n",
    "\n",
    "bar.figure.savefig(os.path.join(path, '04 Analysis','Visualizations', 'customer_profile.png'))  "
   ]
  },
  {
   "cell_type": "markdown",
   "id": "a08142b7",
   "metadata": {},
   "source": [
    "## 7. Customer Profile Aggregation"
   ]
  },
  {
   "cell_type": "code",
   "execution_count": 25,
   "id": "1971e90b",
   "metadata": {},
   "outputs": [
    {
     "data": {
      "text/html": [
       "<div>\n",
       "<style scoped>\n",
       "    .dataframe tbody tr th:only-of-type {\n",
       "        vertical-align: middle;\n",
       "    }\n",
       "\n",
       "    .dataframe tbody tr th {\n",
       "        vertical-align: top;\n",
       "    }\n",
       "\n",
       "    .dataframe thead tr th {\n",
       "        text-align: left;\n",
       "    }\n",
       "\n",
       "    .dataframe thead tr:last-of-type th {\n",
       "        text-align: right;\n",
       "    }\n",
       "</style>\n",
       "<table border=\"1\" class=\"dataframe\">\n",
       "  <thead>\n",
       "    <tr>\n",
       "      <th></th>\n",
       "      <th colspan=\"3\" halign=\"left\">order_frequency</th>\n",
       "    </tr>\n",
       "    <tr>\n",
       "      <th></th>\n",
       "      <th>mean</th>\n",
       "      <th>min</th>\n",
       "      <th>max</th>\n",
       "    </tr>\n",
       "    <tr>\n",
       "      <th>customer_profile</th>\n",
       "      <th></th>\n",
       "      <th></th>\n",
       "      <th></th>\n",
       "    </tr>\n",
       "  </thead>\n",
       "  <tbody>\n",
       "    <tr>\n",
       "      <th>single adult</th>\n",
       "      <td>10.181949</td>\n",
       "      <td>0.0</td>\n",
       "      <td>30.0</td>\n",
       "    </tr>\n",
       "    <tr>\n",
       "      <th>young parent</th>\n",
       "      <td>10.114993</td>\n",
       "      <td>0.0</td>\n",
       "      <td>30.0</td>\n",
       "    </tr>\n",
       "  </tbody>\n",
       "</table>\n",
       "</div>"
      ],
      "text/plain": [
       "                 order_frequency           \n",
       "                            mean  min   max\n",
       "customer_profile                           \n",
       "single adult           10.181949  0.0  30.0\n",
       "young parent           10.114993  0.0  30.0"
      ]
     },
     "execution_count": 25,
     "metadata": {},
     "output_type": "execute_result"
    }
   ],
   "source": [
    "ords_merged.groupby('customer_profile').agg({'order_frequency': ['mean', 'min', 'max']}) "
   ]
  },
  {
   "cell_type": "markdown",
   "id": "a4f1ba0e",
   "metadata": {},
   "source": [
    "## 8. Customer Profile Comparisons"
   ]
  },
  {
   "cell_type": "code",
   "execution_count": 26,
   "id": "a55f89dc",
   "metadata": {},
   "outputs": [],
   "source": [
    "# Creating line charts for comparison\n",
    "\n",
    "np.random.seed(4)\n",
    "dev = np.random.rand(len(ords_merged)) <= 0.7 "
   ]
  },
  {
   "cell_type": "code",
   "execution_count": 27,
   "id": "fc6ceeb2",
   "metadata": {},
   "outputs": [],
   "source": [
    "# Store 70% of sample\n",
    "\n",
    "big = ords_merged[dev] "
   ]
  },
  {
   "cell_type": "code",
   "execution_count": 28,
   "id": "937405d5",
   "metadata": {},
   "outputs": [],
   "source": [
    "# Store 30% of sample\n",
    "\n",
    "small = ords_merged[~dev] "
   ]
  },
  {
   "cell_type": "code",
   "execution_count": 29,
   "id": "cb81d5ba",
   "metadata": {},
   "outputs": [],
   "source": [
    "# Using only necessary columns \n",
    "\n",
    "a_3 = small[['Region','customer_profile']] "
   ]
  },
  {
   "cell_type": "markdown",
   "id": "21039fcf",
   "metadata": {},
   "source": [
    "### 8.1 Regional Customer Profile Line Chart"
   ]
  },
  {
   "cell_type": "code",
   "execution_count": 30,
   "id": "86be37df",
   "metadata": {},
   "outputs": [
    {
     "data": {
      "image/png": "[encoded data removed]",
      "text/plain": [
       "<Figure size 640x480 with 1 Axes>"
      ]
     },
     "metadata": {},
     "output_type": "display_data"
    }
   ],
   "source": [
    "# Creating customer profile by region line chart\n",
    "\n",
    "line_3 = sns.lineplot(data = a_3, x = 'Region',y = 'customer_profile') "
   ]
  },
  {
   "cell_type": "code",
   "execution_count": 31,
   "id": "a31a79a2",
   "metadata": {},
   "outputs": [],
   "source": [
    "# Using only necessary columns \n",
    "\n",
    "a_4 = small[['department_id','customer_profile']] "
   ]
  },
  {
   "cell_type": "markdown",
   "id": "8fa051f1",
   "metadata": {},
   "source": [
    "### 8.2 Departmental Customer Profile Line Chart"
   ]
  },
  {
   "cell_type": "code",
   "execution_count": 32,
   "id": "5e7ad7cf",
   "metadata": {},
   "outputs": [
    {
     "data": {
      "image/png": "[encoded data removed]",
      "text/plain": [
       "<Figure size 640x480 with 1 Axes>"
      ]
     },
     "metadata": {},
     "output_type": "display_data"
    }
   ],
   "source": [
    "# Creating customer profile by department line chart\n",
    "\n",
    "line_4 = sns.lineplot(data = a_4, x = 'department_id',y = 'customer_profile') "
   ]
  },
  {
   "cell_type": "code",
   "execution_count": 34,
   "id": "ebb4fc1a",
   "metadata": {},
   "outputs": [],
   "source": [
    "# Exporting charts\n",
    "\n",
    "line_3.figure.savefig(os.path.join(path, '04 Analysis','Visualizations', 'regional_customer_profile.png')) "
   ]
  },
  {
   "cell_type": "code",
   "execution_count": 35,
   "id": "a1ab1fa3",
   "metadata": {},
   "outputs": [],
   "source": [
    "# Exporting charts\n",
    "\n",
    "line_4.figure.savefig(os.path.join(path, '04 Analysis','Visualizations', 'department_customer_profile.png')) "
   ]
  },
  {
   "cell_type": "markdown",
   "id": "29ca36eb",
   "metadata": {},
   "source": [
    "### Exporting Notebook"
   ]
  },
  {
   "cell_type": "code",
   "execution_count": 36,
   "id": "10505f3c",
   "metadata": {},
   "outputs": [],
   "source": [
    "ords_merged.to_pickle(os.path.join(path, '02 Data','Prepared Data', 'Customer_profile.pkl')) "
   ]
  },
  {
   "cell_type": "code",
   "execution_count": null,
   "id": "d135ef1f",
   "metadata": {},
   "outputs": [],
   "source": []
  }
 ],
 "metadata": {
  "kernelspec": {
   "display_name": "Python 3 (ipykernel)",
   "language": "python",
   "name": "python3"
  },
  "language_info": {
   "codemirror_mode": {
    "name": "ipython",
    "version": 3
   },
   "file_extension": ".py",
   "mimetype": "text/x-python",
   "name": "python",
   "nbconvert_exporter": "python",
   "pygments_lexer": "ipython3",
   "version": "3.11.3"
  }
 },
 "nbformat": 4,
 "nbformat_minor": 5
}
