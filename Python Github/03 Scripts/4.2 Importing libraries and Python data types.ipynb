{
 "cells": [
  {
   "cell_type": "markdown",
   "id": "dea5be2b",
   "metadata": {},
   "source": [
    "# 01.Importing libraries"
   ]
  },
  {
   "cell_type": "code",
   "execution_count": 1,
   "id": "271f79dc",
   "metadata": {},
   "outputs": [],
   "source": [
    "# Import libraries\n",
    "import pandas as pd\n",
    "import numpy as np\n",
    "import os"
   ]
  },
  {
   "cell_type": "markdown",
   "id": "8640b7db",
   "metadata": {},
   "source": [
    "# 02.Python Data Types"
   ]
  },
  {
   "cell_type": "code",
   "execution_count": 2,
   "id": "76e83cf6",
   "metadata": {},
   "outputs": [],
   "source": [
    "x = 2"
   ]
  },
  {
   "cell_type": "code",
   "execution_count": 3,
   "id": "2e7b97b9",
   "metadata": {},
   "outputs": [
    {
     "data": {
      "text/plain": [
       "100"
      ]
     },
     "execution_count": 3,
     "metadata": {},
     "output_type": "execute_result"
    }
   ],
   "source": [
    "x + 98"
   ]
  },
  {
   "cell_type": "code",
   "execution_count": 4,
   "id": "4e227ff9",
   "metadata": {},
   "outputs": [
    {
     "data": {
      "text/plain": [
       "100"
      ]
     },
     "execution_count": 4,
     "metadata": {},
     "output_type": "execute_result"
    }
   ],
   "source": [
    "102 - x"
   ]
  },
  {
   "cell_type": "code",
   "execution_count": 5,
   "id": "96b0727b",
   "metadata": {},
   "outputs": [],
   "source": [
    "x = 3"
   ]
  },
  {
   "cell_type": "code",
   "execution_count": 6,
   "id": "2d47f857",
   "metadata": {},
   "outputs": [
    {
     "data": {
      "text/plain": [
       "100"
      ]
     },
     "execution_count": 6,
     "metadata": {},
     "output_type": "execute_result"
    }
   ],
   "source": [
    "x + 97"
   ]
  },
  {
   "cell_type": "code",
   "execution_count": 7,
   "id": "18d4cb03",
   "metadata": {},
   "outputs": [],
   "source": [
    "x = 10.5"
   ]
  },
  {
   "cell_type": "code",
   "execution_count": 8,
   "id": "8d5db37d",
   "metadata": {},
   "outputs": [],
   "source": [
    "y = 94.6"
   ]
  },
  {
   "cell_type": "code",
   "execution_count": 9,
   "id": "1fc1baeb",
   "metadata": {},
   "outputs": [
    {
     "data": {
      "text/plain": [
       "9.00952380952381"
      ]
     },
     "execution_count": 9,
     "metadata": {},
     "output_type": "execute_result"
    }
   ],
   "source": [
    "y / x"
   ]
  },
  {
   "cell_type": "code",
   "execution_count": 15,
   "id": "420ed92e",
   "metadata": {},
   "outputs": [],
   "source": [
    "a = 'Hi, '"
   ]
  },
  {
   "cell_type": "code",
   "execution_count": 16,
   "id": "c9e78666",
   "metadata": {},
   "outputs": [],
   "source": [
    "b = 'Barbie'"
   ]
  },
  {
   "cell_type": "code",
   "execution_count": 17,
   "id": "4459f1ea",
   "metadata": {},
   "outputs": [
    {
     "data": {
      "text/plain": [
       "'Hi, Barbie'"
      ]
     },
     "execution_count": 17,
     "metadata": {},
     "output_type": "execute_result"
    }
   ],
   "source": [
    "a + b"
   ]
  },
  {
   "cell_type": "code",
   "execution_count": 18,
   "id": "15286906",
   "metadata": {},
   "outputs": [
    {
     "ename": "NameError",
     "evalue": "name 'I' is not defined",
     "output_type": "error",
     "traceback": [
      "\u001b[1;31m---------------------------------------------------------------------------\u001b[0m",
      "\u001b[1;31mNameError\u001b[0m                                 Traceback (most recent call last)",
      "Cell \u001b[1;32mIn[18], line 1\u001b[0m\n\u001b[1;32m----> 1\u001b[0m c \u001b[38;5;241m=\u001b[39m I\n",
      "\u001b[1;31mNameError\u001b[0m: name 'I' is not defined"
     ]
    }
   ],
   "source": [
    "c = I"
   ]
  },
  {
   "cell_type": "code",
   "execution_count": 24,
   "id": "919d24d0",
   "metadata": {},
   "outputs": [],
   "source": [
    "c = 'I, '"
   ]
  },
  {
   "cell_type": "code",
   "execution_count": 25,
   "id": "55aacf9e",
   "metadata": {},
   "outputs": [],
   "source": [
    "d = 'love, '"
   ]
  },
  {
   "cell_type": "code",
   "execution_count": 26,
   "id": "2dfd0cae",
   "metadata": {},
   "outputs": [],
   "source": [
    "e = 'the, '"
   ]
  },
  {
   "cell_type": "code",
   "execution_count": 29,
   "id": "d83a6e03",
   "metadata": {},
   "outputs": [],
   "source": [
    "f = 'beach. '"
   ]
  },
  {
   "cell_type": "code",
   "execution_count": 30,
   "id": "844437a3",
   "metadata": {},
   "outputs": [
    {
     "data": {
      "text/plain": [
       "'I, love, the, beach. '"
      ]
     },
     "execution_count": 30,
     "metadata": {},
     "output_type": "execute_result"
    }
   ],
   "source": [
    "c + d + e + f"
   ]
  },
  {
   "cell_type": "code",
   "execution_count": 31,
   "id": "550139ea",
   "metadata": {},
   "outputs": [],
   "source": [
    "h = 'sun'"
   ]
  },
  {
   "cell_type": "code",
   "execution_count": 32,
   "id": "605ef97a",
   "metadata": {},
   "outputs": [],
   "source": [
    "g = 'flower'"
   ]
  },
  {
   "cell_type": "code",
   "execution_count": 33,
   "id": "7be429d0",
   "metadata": {},
   "outputs": [
    {
     "data": {
      "text/plain": [
       "'sunflower'"
      ]
     },
     "execution_count": 33,
     "metadata": {},
     "output_type": "execute_result"
    }
   ],
   "source": [
    "h + g"
   ]
  },
  {
   "cell_type": "code",
   "execution_count": 1,
   "id": "74830ed7",
   "metadata": {},
   "outputs": [],
   "source": [
    "z = 'moo'"
   ]
  },
  {
   "cell_type": "code",
   "execution_count": 2,
   "id": "a5ccec56",
   "metadata": {},
   "outputs": [
    {
     "data": {
      "text/plain": [
       "'moomoomoomoomoomoomoomoomoomoomoomoomoomoomoomoomoomoomoomoomoomoomoomoomoomoomoomoomoomoomoomoomoomoomoomoomoomoomoomoomoomoomoomoomoomoomoomoomoomoomoomoomoomoomoomoomoomoomoomoomoomoomoomoomoomoomoomoomoomoomoomoomoomoomoomoomoomoomoomoomoomoomoomoomoomoomoomoomoomoomoomoomoomoomoomoomoomoomoomoo'"
      ]
     },
     "execution_count": 2,
     "metadata": {},
     "output_type": "execute_result"
    }
   ],
   "source": [
    "z * 100"
   ]
  },
  {
   "cell_type": "code",
   "execution_count": null,
   "id": "048c0b13",
   "metadata": {},
   "outputs": [],
   "source": []
  }
 ],
 "metadata": {
  "kernelspec": {
   "display_name": "Python 3 (ipykernel)",
   "language": "python",
   "name": "python3"
  },
  "language_info": {
   "codemirror_mode": {
    "name": "ipython",
    "version": 3
   },
   "file_extension": ".py",
   "mimetype": "text/x-python",
   "name": "python",
   "nbconvert_exporter": "python",
   "pygments_lexer": "ipython3",
   "version": "3.11.3"
  }
 },
 "nbformat": 4,
 "nbformat_minor": 5
}
